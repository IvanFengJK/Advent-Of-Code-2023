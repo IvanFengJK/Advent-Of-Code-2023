{
 "cells": [
  {
   "cell_type": "code",
   "execution_count": null,
   "metadata": {},
   "outputs": [],
   "source": [
    "from dotenv import load_dotenv\n",
    "import os\n",
    "import requests\n",
    "\n",
    "load_dotenv()\n",
    "session = os.getenv('session')\n",
    "\n",
    "# Replace 'your_session_cookie_here' with your actual session cookie\n",
    "cookie = {'session': session}\n",
    "\n",
    "# Replace with the specific day and year of the puzzle\n",
    "url = 'https://adventofcode.com/2023/day/2/input'\n",
    "\n",
    "response = requests.get(url, cookies=cookie)\n",
    "\n",
    "if response.status_code != 200:\n",
    "    print(f\"Error: {response.status_code}\")   "
   ]
  },
  {
   "cell_type": "code",
   "execution_count": null,
   "metadata": {},
   "outputs": [],
   "source": [
    "ans = 0\n",
    "ans2 = 0\n",
    "for input in response.text.split('\\n')[:-1]:\n",
    "    clean = input.split(': ')[1].split(\";\")\n",
    "    less_than = False\n",
    "    part2 = {'green': 0, 'blue': 0, 'red': 0}\n",
    "    for game in clean:\n",
    "        segment_dict = {'green': 13, 'blue': 14, 'red': 12}\n",
    "        for pair in game.split(\", \"):\n",
    "            count, color = pair.split()\n",
    "            segment_dict[color] -= int(count)\n",
    "            part2[color] = max(int(count), part2[color])\n",
    "        if any(value < 0 for value in segment_dict.values()):\n",
    "            less_than = True\n",
    "    if not less_than:\n",
    "        ans += int(input.split(': ')[0].split()[1])\n",
    "    product = 1\n",
    "    for value in part2.values():\n",
    "            product *= value\n",
    "    ans2 += product\n",
    "print(f'Part1 ans: {ans} and Part2 and: {ans2}')"
   ]
  }
 ],
 "metadata": {
  "kernelspec": {
   "display_name": "Python 3",
   "language": "python",
   "name": "python3"
  },
  "language_info": {
   "codemirror_mode": {
    "name": "ipython",
    "version": 3
   },
   "file_extension": ".py",
   "mimetype": "text/x-python",
   "name": "python",
   "nbconvert_exporter": "python",
   "pygments_lexer": "ipython3",
   "version": "3.8.15"
  }
 },
 "nbformat": 4,
 "nbformat_minor": 2
}
