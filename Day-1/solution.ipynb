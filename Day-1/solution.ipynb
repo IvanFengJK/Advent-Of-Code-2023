{
 "cells": [
  {
   "cell_type": "code",
   "execution_count": null,
   "metadata": {},
   "outputs": [],
   "source": [
    "from dotenv import load_dotenv\n",
    "import os\n",
    "import requests\n",
    "\n",
    "load_dotenv()\n",
    "session = os.getenv('session')\n",
    "\n",
    "# Replace 'your_session_cookie_here' with your actual session cookie\n",
    "cookie = {'session': session}\n",
    "\n",
    "# Replace with the specific day and year of the puzzle\n",
    "url = 'https://adventofcode.com/2023/day/1/input'\n",
    "\n",
    "response = requests.get(url, cookies=cookie)\n",
    "\n",
    "if response.status_code != 200:\n",
    "    print(f\"Error: {response.status_code}\")   "
   ]
  },
  {
   "cell_type": "code",
   "execution_count": null,
   "metadata": {},
   "outputs": [],
   "source": [
    "def extract_number_1(s: str):\n",
    "    no_alpha = ''.join([char for char in s if not char.isalpha()])\n",
    "    no_alpha = no_alpha[0] + no_alpha[-1]\n",
    "    return int(no_alpha) if no_alpha else 0\n",
    "\n",
    "def conversion(i: int, s: str, char: str):\n",
    "    search_space = {'z': ['zero'],\n",
    "        'o': ['one'],\n",
    "        't': ['two', 'three'],\n",
    "        'f': ['four', 'five'],\n",
    "        's': ['six', 'seven'],\n",
    "        'e': ['eight'],\n",
    "        'n': ['nine']}\n",
    "    \n",
    "    if not char.isalpha():\n",
    "        return char\n",
    "    elif char in search_space.keys():\n",
    "        for possible in search_space[char]:\n",
    "            length = len(possible)\n",
    "            if i + length-1 < len(s):\n",
    "                if s[i:i+length] == possible:\n",
    "                    return possible\n",
    "    return ''\n",
    "\n",
    "def to_integer(string: str):\n",
    "    another_mapping = {\n",
    "        'zero': 0, 'one': 1, 'two': 2, 'three': 3,\n",
    "        'four': 4, 'five': 5, 'six': 6, 'seven': 7,\n",
    "        'eight': 8, 'nine': 9}\n",
    "    \n",
    "    if string in another_mapping.keys():\n",
    "        return another_mapping[string]\n",
    "    else:\n",
    "        return int(string)\n",
    "\n",
    "def extract_number_2(s: str):\n",
    "    \n",
    "    for i in range(len(s)):\n",
    "        start = conversion(i, s, s[i])\n",
    "        if start:\n",
    "            break\n",
    "    \n",
    "    for i in range(len(s)-1, -1, -1):\n",
    "        end = conversion(i, s, s[i])\n",
    "        if end:\n",
    "            break\n",
    "\n",
    "    return to_integer(start)*10+to_integer(end)"
   ]
  },
  {
   "cell_type": "code",
   "execution_count": null,
   "metadata": {},
   "outputs": [],
   "source": [
    "list_int = []\n",
    "for input in response.text.split('\\n'):\n",
    "    if len(input)>0:\n",
    "        list_int.append(extract_number_1(input))\n",
    "print(f'Part 1: Sum of all the calibration values: {sum(list_int)}')\n",
    "\n",
    "list_int = []\n",
    "for input in response.text.split('\\n'):\n",
    "    if len(input)>0:\n",
    "        list_int.append(extract_number_2(input))\n",
    "print(f'Part 2: Sum of all the calibration values: {sum(list_int)}')"
   ]
  }
 ],
 "metadata": {
  "kernelspec": {
   "display_name": "Python 3",
   "language": "python",
   "name": "python3"
  },
  "language_info": {
   "codemirror_mode": {
    "name": "ipython",
    "version": 3
   },
   "file_extension": ".py",
   "mimetype": "text/x-python",
   "name": "python",
   "nbconvert_exporter": "python",
   "pygments_lexer": "ipython3",
   "version": "3.8.15"
  }
 },
 "nbformat": 4,
 "nbformat_minor": 2
}
