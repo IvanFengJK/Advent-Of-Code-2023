{
 "cells": [
  {
   "cell_type": "code",
   "execution_count": null,
   "metadata": {},
   "outputs": [],
   "source": [
    "from dotenv import load_dotenv\n",
    "import os\n",
    "import requests\n",
    "\n",
    "load_dotenv()\n",
    "session = os.getenv('session')\n",
    "\n",
    "# Replace 'your_session_cookie_here' with your actual session cookie\n",
    "cookie = {'session': session}\n",
    "\n",
    "# Replace with the specific day and year of the puzzle\n",
    "url = 'https://adventofcode.com/2023/day/6/input'\n",
    "\n",
    "response = requests.get(url, cookies=cookie)\n",
    "\n",
    "if response.status_code != 200:\n",
    "    print(f\"Error: {response.status_code}\")   "
   ]
  },
  {
   "cell_type": "code",
   "execution_count": null,
   "metadata": {},
   "outputs": [],
   "source": [
    "input_text = \"\"\"Time:      7  15   30\n",
    "Distance:  9  40  200\n",
    "\"\"\"\n",
    "input_text = response.text"
   ]
  },
  {
   "cell_type": "code",
   "execution_count": null,
   "metadata": {},
   "outputs": [],
   "source": [
    "import math\n",
    "\n",
    "def solution (time, dist):\n",
    "    ans = 1\n",
    "    for t, d in zip(time, dist):\n",
    "        di = (t*t) - (4*(d+1))\n",
    "        if di >= 0:\n",
    "            sol1 = (t-math.sqrt(di))*0.5\n",
    "            sol2 = (t+math.sqrt(di))*0.5\n",
    "            diff = math.floor(sol2)-math.ceil(sol1)+1\n",
    "            ans *= diff\n",
    "    print(ans)\n",
    "\n",
    "# Part 1\n",
    "time = [int(i) for i in input_text.split('\\n')[0].split(':')[1].split()]\n",
    "dist = [int(i) for i in input_text.split('\\n')[1].split(':')[1].split()]\n",
    "solution (time, dist)\n",
    "# Part 2\n",
    "time = [int(\"\".join(input_text.split('\\n')[0].split(':')[1].split()))]\n",
    "dist = [int(\"\".join(input_text.split('\\n')[1].split(':')[1].split()))]\n",
    "solution (time, dist)\n"
   ]
  },
  {
   "cell_type": "code",
   "execution_count": null,
   "metadata": {},
   "outputs": [],
   "source": []
  }
 ],
 "metadata": {
  "kernelspec": {
   "display_name": "Python 3",
   "language": "python",
   "name": "python3"
  },
  "language_info": {
   "codemirror_mode": {
    "name": "ipython",
    "version": 3
   },
   "file_extension": ".py",
   "mimetype": "text/x-python",
   "name": "python",
   "nbconvert_exporter": "python",
   "pygments_lexer": "ipython3",
   "version": "3.8.15"
  }
 },
 "nbformat": 4,
 "nbformat_minor": 2
}
