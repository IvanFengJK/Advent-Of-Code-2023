{
 "cells": [
  {
   "cell_type": "code",
   "execution_count": 2,
   "metadata": {},
   "outputs": [],
   "source": [
    "from dotenv import load_dotenv\n",
    "import os\n",
    "import requests\n",
    "\n",
    "load_dotenv()\n",
    "session = os.getenv('session')\n",
    "\n",
    "# Replace 'your_session_cookie_here' with your actual session cookie\n",
    "cookie = {'session': session}\n",
    "\n",
    "# Replace with the specific day and year of the puzzle\n",
    "url = 'https://adventofcode.com/2023/day/4/input'\n",
    "\n",
    "response = requests.get(url, cookies=cookie)\n",
    "\n",
    "if response.status_code != 200:\n",
    "    print(f\"Error: {response.status_code}\")   "
   ]
  },
  {
   "cell_type": "code",
   "execution_count": 16,
   "metadata": {},
   "outputs": [
    {
     "name": "stdout",
     "output_type": "stream",
     "text": [
      "Part1: 23028 Part2: 9236992\n"
     ]
    }
   ],
   "source": [
    "input_text = \"\"\"Card 1: 41 48 83 86 17 | 83 86  6 31 17  9 48 53\n",
    "Card 2: 13 32 20 16 61 | 61 30 68 82 17 32 24 19\n",
    "Card 3:  1 21 53 59 44 | 69 82 63 72 16 21 14  1\n",
    "Card 4: 41 92 73 84 69 | 59 84 76 51 58  5 54 83\n",
    "Card 5: 87 83 26 28 32 | 88 30 70 12 93 22 82 36\n",
    "Card 6: 31 18 13 56 72 | 74 77 10 23 35 67 36 11\n",
    "\"\"\"\n",
    "input_text = response.text\n",
    "part1 = 0\n",
    "part2 = [1] * len(input_text.split('\\n')[:-1])\n",
    "for index, card in enumerate(input_text.split('\\n')[:-1]):\n",
    "    output = card.split(\": \")[1].split(\" | \")\n",
    "    winners = [int(i) for i in output[0].split()]\n",
    "    yours = [int(i) for i in output[1].split()]\n",
    "    intersection = list(set(winners) & set(yours))\n",
    "    if len(intersection):\n",
    "        part1 += 2**(len(intersection)-1)\n",
    "        for i in range(min(len(intersection), len(input_text.split('\\n')[:-1])-index)):\n",
    "            part2[index+i+1] += part2[index]\n",
    "print(f'Part1: {part1} Part2: {sum(part2)}')"
   ]
  },
  {
   "cell_type": "code",
   "execution_count": null,
   "metadata": {},
   "outputs": [],
   "source": []
  }
 ],
 "metadata": {
  "kernelspec": {
   "display_name": "Python 3",
   "language": "python",
   "name": "python3"
  },
  "language_info": {
   "codemirror_mode": {
    "name": "ipython",
    "version": 3
   },
   "file_extension": ".py",
   "mimetype": "text/x-python",
   "name": "python",
   "nbconvert_exporter": "python",
   "pygments_lexer": "ipython3",
   "version": "3.8.15"
  }
 },
 "nbformat": 4,
 "nbformat_minor": 2
}
